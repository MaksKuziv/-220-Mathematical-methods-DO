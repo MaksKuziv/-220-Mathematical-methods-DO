{
 "cells": [
  {
   "attachments": {},
   "cell_type": "markdown",
   "metadata": {},
   "source": [
    "> `string` - стрічковий тип данних(але в Пайтоні все є обєктами!). Будь-яка стрічкова змінна є обєктом класу `str`."
   ]
  },
  {
   "cell_type": "code",
   "execution_count": 1,
   "metadata": {},
   "outputs": [
    {
     "name": "stdout",
     "output_type": "stream",
     "text": [
      "This is \n",
      "string.\n",
      "written in python.\n",
      "21 \n",
      " <class 'str'> \n",
      " 4\n"
     ]
    }
   ],
   "source": [
    "a = \"This\"\n",
    "b = ' is '\n",
    "c = \"\"\"\n",
    "string.\n",
    "Written in Python.\n",
    "\"\"\"\n",
    "d = str(21)\n",
    "concatination_example = a + b + c.capitalize() + d\n",
    "\n",
    "print(concatination_example, \"\\n\", type(d), \"\\n\", concatination_example.count(\"t\"))"
   ]
  },
  {
   "attachments": {},
   "cell_type": "markdown",
   "metadata": {},
   "source": [
    "> `numeric` - тут є декілька типів числових даних, наприклад цілі числа `int` та числа з плаваючою крапкою `float`."
   ]
  },
  {
   "cell_type": "code",
   "execution_count": 2,
   "metadata": {},
   "outputs": [
    {
     "name": "stdout",
     "output_type": "stream",
     "text": [
      "12 <class 'int'>\n",
      "12.6 <class 'float'>\n",
      "Примусово перетворюю int y float: <class 'float'>\n",
      "І навпаки float y int: <class 'int'>\n",
      "Переводимо в двійкову, вісімкову та шістнадцяткову форму: 0b1100 0o14 0xc Та рахуємо кількість одиниць: 2\n"
     ]
    }
   ],
   "source": [
    "i = 12\n",
    "print(i, type(i))\n",
    "\n",
    "f = 12.6\n",
    "print(f, type(f))\n",
    "\n",
    "print(\"Примусово перетворюю int y float:\", type(float(i)))\n",
    "print(\"І навпаки float y int:\", type(int(f)))\n",
    "\n",
    "print(\"Переводимо в двійкову, вісімкову та шістнадцяткову форму:\",\n",
    "      bin(i),\n",
    "      oct(i),\n",
    "      hex(i),\n",
    "      \"Та рахуємо кількість одиниць:\",\n",
    "      i.bit_count())"
   ]
  },
  {
   "attachments": {},
   "cell_type": "markdown",
   "metadata": {},
   "source": [
    "> `Sequence` - послідовні типи даних, або набори даних. До них відносяться `list` та `tuple`."
   ]
  },
  {
   "cell_type": "code",
   "execution_count": 3,
   "metadata": {},
   "outputs": [
    {
     "name": "stdout",
     "output_type": "stream",
     "text": [
      "['This', 12, 12.6, ['List', 'in', 'list'], 'and final string'] <class 'list'>\n",
      "Виводжу перший елемент в списку по його індексу 0: This\n",
      "Виводжу останній елемент: and final string\n",
      "Виводжу слайс: [12, 12.6]\n",
      "Виводжу елементи з вкладеного списку in\n",
      "['This', 12, 12.6, ['List', 'in', 'list'], 'and final string', 'New final element']\n",
      "['This', 12, 12.6, ['List', 'in', 'list'], 'New final element']\n"
     ]
    }
   ],
   "source": [
    "l = [a, i, f, [\"List\", \"in\", \"list\"], \"and final string\"]\n",
    "print(l,type(l))\n",
    "print(\"Виводжу перший елемент в списку по його індексу 0:\", l[0])\n",
    "print(\"Виводжу останній елемент:\", l[-1])\n",
    "print(\"Виводжу слайс:\", l[1:3])\n",
    "print(\"Виводжу елементи з вкладеного списку\", l[3][1])\n",
    "\n",
    "l.append(\"New final element\")\n",
    "print(l)\n",
    "l.pop(-2)\n",
    "print(l)"
   ]
  },
  {
   "cell_type": "code",
   "execution_count": 4,
   "metadata": {},
   "outputs": [
    {
     "name": "stdout",
     "output_type": "stream",
     "text": [
      "3.141592653589793\n",
      "('This', 3.141592653589793, 12, 12.6, ['List', 'in', 'list'], 'and final string') <class 'tuple'>\n",
      "Я перевизначив змінну Р в якій була константа ПІ 2.13\n",
      "('This', 3.141592653589793, 12, 12.6, ['List', 'in', 'list'], 'and final string')\n"
     ]
    }
   ],
   "source": [
    "import math\n",
    "print(math.pi)\n",
    "p = math.pi\n",
    "t = (a, p, i, f, [\"List\", \"in\", \"list\"], \"and final string\")\n",
    "\n",
    "print(t, type(t))\n",
    "\n",
    "p = 2.13\n",
    "print(\"Я перевизначив змінну Р в якій була константа ПІ\", p)\n",
    "#t[1] = p # Це виведе помилку, бо Tuple змінювати не можна!\n",
    "print(t)"
   ]
  },
  {
   "cell_type": "code",
   "execution_count": 5,
   "metadata": {},
   "outputs": [
    {
     "name": "stdout",
     "output_type": "stream",
     "text": [
      "<class 'float'>\n",
      "Маємо тип <class 'list'> зі значенями [1, 2, 3] а якщо застосувати бібліотеку numpy буде <class 'numpy.ndarray'> із значеннями [1 2 3]\n"
     ]
    }
   ],
   "source": [
    "import numpy as np\n",
    "print(type(math.pi))\n",
    "\n",
    "l = list([1, 2, 3])\n",
    "np_l = np.array(l)\n",
    "print(f\"Маємо тип {type(l)} зі значенями {l} а якщо застосувати бібліотеку numpy буде {type(np_l)} із значеннями {np_l}\")"
   ]
  },
  {
   "attachments": {},
   "cell_type": "markdown",
   "metadata": {},
   "source": [
    "`Mapping` - типи мади які ставлять у відповідність ключ значення, до них належать dict"
   ]
  },
  {
   "cell_type": "code",
   "execution_count": 6,
   "metadata": {},
   "outputs": [
    {
     "name": "stdout",
     "output_type": "stream",
     "text": [
      "Доступаємось до елементів словника:\n",
      "||| значення\n",
      "||| Це не нульовий елемент\n",
      "||| key\n",
      "||| value\n",
      "||| ['key', 'b']\n",
      "\n"
     ]
    }
   ],
   "source": [
    "a = \"key\"\n",
    "b = \"b\"\n",
    "d = {\"ключ\": \"значення\", \"key\": \"value\", 0: \"Це не нульовий елемент\", 'a': a, b: [a, b]}\n",
    "print(f\"\"\"Доступаємось до елементів словника:\n",
    "||| {d['ключ']}\n",
    "||| {d[0]}\n",
    "||| {d['a']}\n",
    "||| {d[a]}\n",
    "||| {d[\"b\"]}\n",
    "\"\"\")"
   ]
  },
  {
   "attachments": {},
   "cell_type": "markdown",
   "metadata": {},
   "source": [
    "`set type` - до них відноситься тип даних set"
   ]
  },
  {
   "cell_type": "code",
   "execution_count": 7,
   "metadata": {},
   "outputs": [
    {
     "name": "stdout",
     "output_type": "stream",
     "text": [
      "{'a', 'b'} <class 'set'>\n",
      "Був <class 'list'> з 5 елементами, став <class 'set'> з 2 елементами\n"
     ]
    }
   ],
   "source": [
    "s = {\"a\", \"a\", \"b\", \"b\"}\n",
    "print(s, type(s))\n",
    "l = [1, 1, 2, 1, 2]\n",
    "s2 = set(l)\n",
    "print(f\"Був {type(l)} з {l.__len__()} елементами, став {type(s2)} з {len(s2)} елементами\")"
   ]
  },
  {
   "attachments": {},
   "cell_type": "markdown",
   "metadata": {},
   "source": [
    "### Вбудовані константи"
   ]
  },
  {
   "cell_type": "code",
   "execution_count": 8,
   "metadata": {},
   "outputs": [
    {
     "name": "stdout",
     "output_type": "stream",
     "text": [
      "Маю змінну true яка дуже похожа до константи True\n",
      "<class 'NoneType'>\n",
      "Я передав значення у функцію\n"
     ]
    }
   ],
   "source": [
    "a = True\n",
    "b = False\n",
    "true = True\n",
    "print(f\"Маю змінну true яка дуже похожа до константи {true}\")\n",
    "c = None\n",
    "print(type(c))\n",
    "\n",
    "def my_fun(a=None):\n",
    "    return a\n",
    "print(my_fun(\"Я передав значення у функцію\"))"
   ]
  },
  {
   "attachments": {},
   "cell_type": "markdown",
   "metadata": {},
   "source": [
    "### Вбудовані функції "
   ]
  },
  {
   "cell_type": "code",
   "execution_count": 9,
   "metadata": {},
   "outputs": [
    {
     "name": "stdout",
     "output_type": "stream",
     "text": [
      "[(1, 'a', '-'), (2, 'b', '+'), (3, 'c', '=')]\n",
      "(1, 'a', '-')\n",
      "0o14 0xe\n",
      "Змінна [1, 2, 3] є обєктом класу <class 'list'> та має ID 2632304654080\n",
      "Змінна [1, 2, 3] є обєктом класу <class 'list'> та має ID 2632560986752\n",
      "2632560986752\n"
     ]
    }
   ],
   "source": [
    "a = [1, 2, 3]\n",
    "b = [\"a\", \"b\", \"c\"]\n",
    "c = [\"-\", \"+\", \"=\"]\n",
    "print(list(zip(a,b,c)))\n",
    "print((a[0],b[0],c[0]))\n",
    "\n",
    "print(oct(12), hex(14))\n",
    "\n",
    "print(f\"Змінна {a} є обєктом класу {type(a)} та має ID {id(a)}\")\n",
    "a = [1, 2, 3]\n",
    "print(f\"Змінна {a} є обєктом класу {type(a)} та має ID {id(a)}\")\n",
    "a.append(\"wq\")\n",
    "print(id(a))"
   ]
  },
  {
   "attachments": {},
   "cell_type": "markdown",
   "metadata": {},
   "source": [
    "### Цикли\n",
    "> Ітераційні цикли"
   ]
  },
  {
   "cell_type": "code",
   "execution_count": 10,
   "metadata": {},
   "outputs": [
    {
     "name": "stdout",
     "output_type": "stream",
     "text": [
      "0\n",
      "2\n",
      "4\n",
      "6\n",
      "8\n",
      "Кінцеве значення 10\n",
      "Значення по яких будемо ітерувати: [0, 2, 4, 6, 8]\n",
      "0\n",
      "2\n",
      "4\n",
      "6\n",
      "8\n",
      "Кінцева значення 8\n"
     ]
    }
   ],
   "source": [
    "i = 0\n",
    "while i < 10:\n",
    "    print(i)\n",
    "    i+=2\n",
    "print(f\"Кінцеве значення {i}\")\n",
    "\n",
    "N = range(0, 10, 2)\n",
    "print(f\"Значення по яких будемо ітерувати: {list(N)}\")\n",
    "\n",
    "for i in N:\n",
    "    print(i)\n",
    "print(f\"Кінцева значення {i}\")"
   ]
  },
  {
   "attachments": {},
   "cell_type": "markdown",
   "metadata": {},
   "source": [
    "> Умовні цикли"
   ]
  },
  {
   "cell_type": "code",
   "execution_count": 11,
   "metadata": {},
   "outputs": [
    {
     "name": "stdout",
     "output_type": "stream",
     "text": [
      "########## Приклад з while ##########\n",
      "Цикл виконувався 0 разів\n",
      "Згенероване число 3\n",
      "Згенероване число 7\n",
      "Згенероване число 0\n",
      "Згенероване число 7\n",
      "Згенероване число 1\n",
      "Згенероване число 0\n",
      "Згенероване число 6\n",
      "Згенероване число 8\n",
      "Згенероване число 5\n",
      "Згенероване число 2\n",
      "Згенероване число 4\n",
      "Згенероване число 0\n",
      "Згенероване число 6\n",
      "Згенероване число 6\n",
      "Згенероване число 3\n",
      "Згенероване число 7\n",
      "Згенероване число 3\n",
      "Згенероване число 6\n",
      "Згенероване число 1\n",
      "Згенероване число 3\n",
      "Згенероване число 6\n",
      "Згенероване число 10\n",
      "Згенероване число більше 8, зупиняємо цикл.\n",
      "########## Приклад з for ##########\n",
      "Згенероване число 7\n",
      "Згенероване число 3\n",
      "Згенероване число 1\n",
      "Згенероване число 5\n",
      "Згенероване число 0\n",
      "Згенероване число 9\n",
      "Згенероване число більше 8, зупиняємо цикл.\n"
     ]
    }
   ],
   "source": [
    "from random import randint\n",
    "\n",
    "print(10*\"#\", \"Приклад з while\", 10*\"#\")\n",
    "i = 0\n",
    "while randint(0, 10) < 8:\n",
    "    print(\"Згенерувалось випадкове число менше 8, продовжуємо.\")\n",
    "    i+=1\n",
    "print(f\"Цикл виконувався {i} разів\")\n",
    "\n",
    "while True:\n",
    "    i = randint(0, 10)\n",
    "    print(f\"Згенероване число {i}\")\n",
    "    if i > 8:\n",
    "        print(\"Згенероване число більше 8, зупиняємо цикл.\")\n",
    "        break\n",
    "\n",
    "print(10*\"#\", \"Приклад з for\", 10*\"#\")\n",
    "for _ in iter(int, 1):\n",
    "    i = randint(0, 10)\n",
    "    print(f\"Згенероване число {i}\")\n",
    "    if i > 8:\n",
    "        print(\"Згенероване число більше 8, зупиняємо цикл.\")\n",
    "        break"
   ]
  },
  {
   "cell_type": "code",
   "execution_count": 12,
   "metadata": {},
   "outputs": [
    {
     "name": "stdout",
     "output_type": "stream",
     "text": [
      "Ми зайшли в цикл з i = 0\n",
      "Це виконається якщо i < 5, перескакуємо ітерацію\n",
      "Це виконається тільки при i = 5\n",
      "Ми зайшли в цикл з i = 6\n",
      "Це виконається якщо i > 5, зупиняємо цикл\n"
     ]
    }
   ],
   "source": [
    "while True:\n",
    "    i = randint(0, 10)\n",
    "    print(f\"Ми зайшли в цикл з i = {i}\")\n",
    "    if i < 5:\n",
    "        print(\"Це виконається якщо i < 5, перескакуємо ітерацію\")\n",
    "    \n",
    "    if i > 5:\n",
    "        print(\"Це виконається якщо i > 5, зупиняємо цикл\")\n",
    "        break\n",
    "\n",
    "    print(\"Це виконається тільки при i = 5\")"
   ]
  },
  {
   "attachments": {},
   "cell_type": "markdown",
   "metadata": {},
   "source": [
    "### Розгалуження"
   ]
  },
  {
   "cell_type": "code",
   "execution_count": 13,
   "metadata": {},
   "outputs": [
    {
     "name": "stdout",
     "output_type": "stream",
     "text": [
      "Значення a = 7\n",
      "Випадково згенероване число в діапазоні [0 , 0] = 0\n",
      "Число є рівним нижній межі\n",
      "Випадково згенероване число в діапазоні [0 , 1] = 1\n",
      "Число є рівним верхній межі\n",
      "Випадково згенероване число в діапазоні [0 , 2] = 1\n",
      "Число з середини діапазону\n",
      "Випадково згенероване число в діапазоні [0 , 3] = 2\n",
      "Число з середини діапазону\n",
      "Випадково згенероване число в діапазоні [0 , 4] = 4\n",
      "Число є рівним верхній межі\n",
      "Випадково згенероване число в діапазоні [0 , 5] = 1\n",
      "Число з середини діапазону\n",
      "Випадково згенероване число в діапазоні [0 , 6] = 1\n",
      "Число з середини діапазону\n",
      "Випадково згенероване число в діапазоні [0 , 7] = 2\n",
      "Число з середини діапазону\n",
      "Випадково згенероване число в діапазоні [0 , 8] = 1\n",
      "Число з середини діапазону\n",
      "Випадково згенероване число в діапазоні [0 , 9] = 2\n",
      "Число з середини діапазону\n",
      "Ми отримали 1 разів нижній діапазон, 0 разів верхній діапазон та 7 разів число з середини діапазону\n"
     ]
    }
   ],
   "source": [
    "a = randint(0, 9)\n",
    "if a > 8:\n",
    "    print(f\"a = {a}\")\n",
    "elif a == 5:\n",
    "    print(a)\n",
    "elif a == 6:\n",
    "    print(a)\n",
    "else:\n",
    "    print(f\"Значення a = {a}\")\n",
    "\n",
    "l, u, s = (0, 0, 0)\n",
    "\n",
    "for i in range(10):\n",
    "    a = randint(0, i)\n",
    "    print(f\"Випадково згенероване число в діапазоні [0 , {i}] = {a}\")\n",
    "    if a == 0:\n",
    "        print(\"Число є рівним нижній межі\")\n",
    "        l+=1\n",
    "    elif a == i:\n",
    "        print(\"Число є рівним верхній межі\")\n",
    "    else:\n",
    "        print(\"Число з середини діапазону\")\n",
    "        s+=1\n",
    "print(f\"Ми отримали {l} разів нижній діапазон, {u} разів верхній діапазон та {s} разів число з середини діапазону\")"
   ]
  },
  {
   "cell_type": "code",
   "execution_count": 14,
   "metadata": {},
   "outputs": [],
   "source": [
    "play_game = False\n",
    "\n",
    "if play_game:\n",
    "    from random import randint\n",
    "    s = randint(0, 10)\n",
    "    print(\"Вгадай число від 0 до 10\")\n",
    "    while True:\n",
    "        a = input(\"Введіть число:\")\n",
    "        print(f\"Введене число {a}\")\n",
    "        b = int(a)\n",
    "        if isinstance(b, int):\n",
    "            if b > s:\n",
    "                print(\"Забагато\")\n",
    "            elif b < s:\n",
    "                print(\"Замало\")\n",
    "            else:\n",
    "                print(\"Вгадали!\")\n",
    "                break\n",
    "        else:\n",
    "            print(f\"{a} не є числом від 0 до 10\")"
   ]
  },
  {
   "attachments": {},
   "cell_type": "markdown",
   "metadata": {},
   "source": [
    "### OneLiner - це код написаний в одну стрічку.\n",
    "> можна роботи для розгалужень"
   ]
  },
  {
   "cell_type": "code",
   "execution_count": 15,
   "metadata": {},
   "outputs": [
    {
     "name": "stdout",
     "output_type": "stream",
     "text": [
      "Значення змінної у першому випадку буде: 10 а у другому: 10\n"
     ]
    }
   ],
   "source": [
    "a = 4\n",
    "\n",
    "if a > 5:\n",
    "    b = a\n",
    "else:\n",
    "    b = 10\n",
    "\n",
    "c = a if a > 5 else 10\n",
    "\n",
    "print(f\"Значення змінної у першому випадку буде: {b} а у другому: {c}\")"
   ]
  },
  {
   "attachments": {},
   "cell_type": "markdown",
   "metadata": {},
   "source": [
    "> та для циклів це називається List Comprehension "
   ]
  },
  {
   "cell_type": "code",
   "execution_count": 16,
   "metadata": {},
   "outputs": [
    {
     "name": "stdout",
     "output_type": "stream",
     "text": [
      "Перший цикл: [1, 4, 9, 16, 25, 36, 49, 64, 81] та результат другого циклу: [1, 4, 9, 16, 25, 36, 49, 64, 81]\n",
      "Отримали: <class 'generator'> і щоб вивести значення перетворили на список <class 'type'>\n",
      "Генератор має розмір 104 байт а при перетворенні в ліст розмір буде: 8856 байт\n"
     ]
    }
   ],
   "source": [
    "l1 = []\n",
    "for i in range(1, 10):\n",
    "    l1.append(i**2)\n",
    "\n",
    "l2 = [ i**2 for i in range(1, 10) ]\n",
    "\n",
    "print(f\"Перший цикл: {l1} та результат другого циклу: {l2}\")\n",
    "\n",
    "import sys\n",
    "g = ( i**2 for i in range(1, 1000) )\n",
    "\n",
    "t2 = [ i for i in g ]\n",
    "print(f\"Отримали: {type(g)} і щоб вивести значення перетворили на список {type}\")\n",
    "\n",
    "print(f\"Генератор має розмір {sys.getsizeof(g)} байт а при перетворенні в ліст розмір буде: {sys.getsizeof(t2)} байт\")"
   ]
  },
  {
   "attachments": {},
   "cell_type": "markdown",
   "metadata": {},
   "source": [
    "### Виловлювання винятків в програмах "
   ]
  },
  {
   "cell_type": "code",
   "execution_count": 17,
   "metadata": {},
   "outputs": [
    {
     "ename": "NameError",
     "evalue": "name 'k' is not defined",
     "output_type": "error",
     "traceback": [
      "\u001b[1;31m---------------------------------------------------------------------------\u001b[0m",
      "\u001b[1;31mNameError\u001b[0m                                 Traceback (most recent call last)",
      "Cell \u001b[1;32mIn[17], line 1\u001b[0m\n\u001b[1;32m----> 1\u001b[0m d \u001b[39m=\u001b[39m k \u001b[39m+\u001b[39m \u001b[39m10\u001b[39m\n\u001b[0;32m      2\u001b[0m \u001b[39mprint\u001b[39m(\u001b[39m\"\u001b[39m\u001b[39mЦе ніколи не виведеться\u001b[39m\u001b[39m\"\u001b[39m)\n",
      "\u001b[1;31mNameError\u001b[0m: name 'k' is not defined"
     ]
    }
   ],
   "source": [
    "d = k + 10\n",
    "print(\"Це ніколи не виведеться\")"
   ]
  },
  {
   "cell_type": "code",
   "execution_count": null,
   "metadata": {},
   "outputs": [],
   "source": [
    "initializeVariable = False\n",
    "try:\n",
    "    if initializeVariable:\n",
    "        k = 100\n",
    "    print(\"Що буде якщо викличемо неініціалізовану змінну ?\")\n",
    "    d = k + 10\n",
    "    print(f\"Змінна була ініціалізована значенням {k} і результат {d}\")\n",
    "    del(k)\n",
    "except NameError as e:\n",
    "    print(f\"Буде от така помилка: {e}\")\n",
    "finally:\n",
    "    print(\"Цей блок виконається завжди!\")"
   ]
  },
  {
   "cell_type": "code",
   "execution_count": null,
   "metadata": {},
   "outputs": [],
   "source": [
    "d = {\"a\": 1, \"b\": 4}\n",
    "print(d[\"c\"])\n",
    "print(\"Це ніколи не виведеться\")\n"
   ]
  },
  {
   "cell_type": "code",
   "execution_count": null,
   "metadata": {},
   "outputs": [],
   "source": [
    "key = 'C'\n",
    "try:\n",
    "    print(f\"Що буде якщо доступитись до неіснуючого елемента {key} в словнику ?\")\n",
    "    print(d[key])\n",
    "except KeyError as e:\n",
    "    print(f\"Буде от така помилка: ключа {e} не існує\")"
   ]
  },
  {
   "cell_type": "code",
   "execution_count": null,
   "metadata": {},
   "outputs": [],
   "source": [
    "l = [1, 2]\n",
    "print(l[5])\n",
    "print(\"Це ніколи не виведеться\")"
   ]
  },
  {
   "cell_type": "code",
   "execution_count": null,
   "metadata": {},
   "outputs": [],
   "source": [
    "index = 3\n",
    "try:\n",
    "    print(f\"Що буде якщо доступитись до неіснуючого індекса {index}?\")\n",
    "    print(l[index])\n",
    "except IndexError as e:\n",
    "    print(f\"Буде от така помилка: {e}\")"
   ]
  },
  {
   "attachments": {},
   "cell_type": "markdown",
   "metadata": {},
   "source": [
    "### Робота з файлами"
   ]
  },
  {
   "cell_type": "code",
   "execution_count": null,
   "metadata": {},
   "outputs": [],
   "source": [
    "import os\n",
    "\n",
    "print(f\"Спочатку маємо такі файли: {os.listdir()}\")\n",
    "\n",
    "with open(\"test.txt\", \"w\") as f:\n",
    "    f.write(\"Hello\")\n",
    "\n",
    "with open(\"test.txt\", \"r\") as f:  \n",
    "    print(f.readline())\n",
    "\n",
    "print(f\"Після виконання програми маємо: {os.listdir()}\")\n",
    "os.remove(\"test.txt\")"
   ]
  },
  {
   "attachments": {},
   "cell_type": "markdown",
   "metadata": {},
   "source": [
    "### Функції та безіменні Lambdas"
   ]
  },
  {
   "cell_type": "code",
   "execution_count": null,
   "metadata": {},
   "outputs": [],
   "source": [
    "def myfun(x):\n",
    "    return f\"Квадрат величини {x}={x**2}\"\n",
    "\n",
    "l1 = myfun\n",
    "print(f\"Я викликаю функцію {type(l1)}: {l1(5)}\")\n",
    "\n",
    "l2 = lambda x: f\"Квадрат величини {x}={x**2}\"\n",
    "print(f\"Я можу це саме зробити з лямбдою {type(l2)}: {l2(5)}\")"
   ]
  }
 ],
 "metadata": {
  "kernelspec": {
   "display_name": "Python 3",
   "language": "python",
   "name": "python3"
  },
  "language_info": {
   "codemirror_mode": {
    "name": "ipython",
    "version": 3
   },
   "file_extension": ".py",
   "mimetype": "text/x-python",
   "name": "python",
   "nbconvert_exporter": "python",
   "pygments_lexer": "ipython3",
   "version": "3.10.2"
  },
  "orig_nbformat": 4
 },
 "nbformat": 4,
 "nbformat_minor": 2
}
