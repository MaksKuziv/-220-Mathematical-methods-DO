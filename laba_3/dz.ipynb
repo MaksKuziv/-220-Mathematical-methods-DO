{
 "cells": [
  {
   "cell_type": "code",
   "execution_count": 5,
   "metadata": {},
   "outputs": [
    {
     "name": "stdout",
     "output_type": "stream",
     "text": [
      "[20.1, 20.1, 20.2, 20.4]\n",
      "При множенні на 5 маємо: [20.1, 20.1, 20.2, 20.4, 20.1, 20.1, 20.2, 20.4, 20.1, 20.1, 20.2, 20.4, 20.1, 20.1, 20.2, 20.4, 20.1, 20.1, 20.2, 20.4]\n",
      "\n",
      "Чому маємо такий результат?\n",
      "---\n",
      "Тому, що ми беремо цілий масив і множимо на число, тому він виводиться 5 разів(тобто число на яке множимо)\n",
      "\n",
      "Тепер отримаємо: [100.5, 100.5, 101.0, 102.0]\n",
      "\n",
      "Чому тепер множення успішне?\n",
      "---\n",
      "Тому, що тепер ми беремо кожен окремий елемент масиву і множимо на число 5\n",
      "\n",
      "Масив з використанням методів NumPy [20.1 20.1 20.2 20.4]\n",
      "При множенні на 5 отримуємо: [100.5 100.5 101.  102. ]\n"
     ]
    }
   ],
   "source": [
    "import numpy as np\n",
    "temperature = [20.1, 20.1, 20.2, 20.4]\n",
    "print(temperature)\n",
    "\n",
    "t1 = temperature *5\n",
    "print(f\"При множенні на 5 маємо: {t1}\")\n",
    "print(\"\"\"\n",
    "Чому маємо такий результат?\n",
    "---\n",
    "Тому, що ми беремо цілий масив і множимо на число, тому він виводиться 5 разів(тобто число на яке множимо)\n",
    "\"\"\")\n",
    "t1 = [x*5 for x in temperature]\n",
    "print(f\"Тепер отримаємо: {t1}\")\n",
    "print(\"\"\"\n",
    "Чому тепер множення успішне?\n",
    "---\n",
    "Тому, що тепер ми беремо кожен окремий елемент масиву і множимо на число 5\n",
    "\"\"\")\n",
    "t2 = np.array(temperature)\n",
    "print(\"Масив з використанням методів NumPy\", t2)\n",
    "t3 = t2 * 5\n",
    "print(\"При множенні на 5 отримуємо:\", t3)"
   ]
  },
  {
   "attachments": {},
   "cell_type": "markdown",
   "metadata": {},
   "source": [
    "### Вектори, створення та робота з ними"
   ]
  },
  {
   "cell_type": "code",
   "execution_count": 7,
   "metadata": {},
   "outputs": [
    {
     "name": "stdout",
     "output_type": "stream",
     "text": [
      "\n",
      "Все можна створити в ручну за допомогою методу np.array\n",
      "передавши йому набір значень у вигляді List:\n",
      "\n",
      "[ 1 -5  3  2  4] \n",
      "Вектор має розмір (5,)\n",
      "[[1]\n",
      " [2]\n",
      " [3]\n",
      " [4]] \n",
      "Вектор має розмір (4, 1)\n"
     ]
    }
   ],
   "source": [
    "print(\"\"\"\n",
    "Все можна створити в ручну за допомогою методу np.array\n",
    "передавши йому набір значень у вигляді List:\n",
    "\"\"\")\n",
    "vector_row = np.array([1, -5, 3, 2, 4])\n",
    "vector_column = np.array([[1],\n",
    "                         [2],\n",
    "                         [3],\n",
    "                         [4]])\n",
    "print(vector_row, \"\\nВектор має розмір\", vector_row.shape)\n",
    "print(vector_column, \"\\nВектор має розмір\", vector_column.shape)"
   ]
  },
  {
   "attachments": {},
   "cell_type": "markdown",
   "metadata": {},
   "source": [
    "### Метод `arange` - генерує послідовність чисел з певним кроком у заданому інтервалі"
   ]
  },
  {
   "cell_type": "code",
   "execution_count": 17,
   "metadata": {},
   "outputs": [
    {
     "name": "stdout",
     "output_type": "stream",
     "text": [
      "Масив згенерований простим range: range(0, 5) та методом arange: [0 1 2 3 4]\n",
      "Виведіть весь діапазон чисел.\n",
      "Виводимо весь діапазон числе починаючи з 0, з кроком 5:\n",
      "[ 0  5 10 15 20 25 30 35 40 45 50 55 60 65 70 75 80 85 90 95]\n"
     ]
    }
   ],
   "source": [
    "start = 5\n",
    "size_of_vec = 100\n",
    "x = range(size_of_vec)\n",
    "a = np.arange(size_of_vec)\n",
    "print(f\"Масив згенерований простим range: {x[0:5]} та методом arange: {a[0:5]}\")\n",
    "print(\"Виведіть весь діапазон чисел.\")\n",
    "print(f\"Виводимо весь діапазон числе починаючи з 0, з кроком 5:\\n{a[0:100:5]}\")\n",
    "\n"
   ]
  }
 ],
 "metadata": {
  "kernelspec": {
   "display_name": "Python 3",
   "language": "python",
   "name": "python3"
  },
  "language_info": {
   "codemirror_mode": {
    "name": "ipython",
    "version": 3
   },
   "file_extension": ".py",
   "mimetype": "text/x-python",
   "name": "python",
   "nbconvert_exporter": "python",
   "pygments_lexer": "ipython3",
   "version": "3.10.2"
  },
  "orig_nbformat": 4
 },
 "nbformat": 4,
 "nbformat_minor": 2
}
