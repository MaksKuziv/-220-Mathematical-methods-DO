{
 "cells": [
  {
   "attachments": {},
   "cell_type": "markdown",
   "metadata": {},
   "source": [
    "### Інсталюємо бібліотеку `Numpy`"
   ]
  },
  {
   "cell_type": "code",
   "execution_count": null,
   "metadata": {},
   "outputs": [],
   "source": [
    "%pip install numpy"
   ]
  },
  {
   "attachments": {},
   "cell_type": "markdown",
   "metadata": {},
   "source": [
    "### Починаємо роботу з `Numpy`\n",
    "> імпортуємо бібліотеку"
   ]
  },
  {
   "cell_type": "code",
   "execution_count": null,
   "metadata": {},
   "outputs": [],
   "source": [
    "import numpy as np"
   ]
  },
  {
   "attachments": {},
   "cell_type": "markdown",
   "metadata": {},
   "source": [
    "> вчимось основам використання масивів та їх порівняння з простими Python List"
   ]
  },
  {
   "cell_type": "code",
   "execution_count": null,
   "metadata": {},
   "outputs": [],
   "source": [
    "import sys\n",
    "l = [1, 2, 3, 6, 7, 8, 9, 12, 14, 16]\n",
    "print(f\"Маємо масив {type(l)} довжиною {len(l)} який займає в памяті {sys.getsizeof(l)} байти\")\n",
    "a = np.array(l)\n",
    "print(f\"Маємо Numpy масив {type(a)} довжиною {len(a)} який займає в памяті {sys.getsizeof(a)} байти\")\n",
    "\n",
    "print(\"Переконаємось, що для великих розмірів Numpy краще використовують память компютера:\")\n",
    "l2 = list(range(100, 10000))\n",
    "a2 = np.array(l2)\n",
    "print(f\"{type(l2)} займає в памяті {sys.getsizeof(l2)} байти,\\n{type(a2)} займає в памяті {sys.getsizeof(a2)} байти\")"
   ]
  },
  {
   "attachments": {},
   "cell_type": "markdown",
   "metadata": {},
   "source": [
    "> Вчимось виконувати операції над масивами"
   ]
  },
  {
   "cell_type": "code",
   "execution_count": null,
   "metadata": {},
   "outputs": [],
   "source": [
    "items = [int(5), float(5), list([5]), np.array([5])]\n",
    "print(f\"Маємо {type(items)} з наборів різних даних:\")\n",
    "for item in items:\n",
    "    print(f\"Маємо число {item} типу {type(item)}\")\n",
    "\n",
    "print(\"Покажемо як виконувати арифметичні операції\")\n",
    "\n",
    "a = items[0] + items[1]\n",
    "print(f\"Результат: {a} типу {type(a)}\")\n",
    "a = items[0] + items[2][0]\n",
    "print(f\"Результат: {a} типу {type(a)}\")\n",
    "a = items[0] + items[-1]\n",
    "print(f\"Результат: {a} типу {type(a)}. Зверніть увагу, що нам не потрібно розкривати масив.\")\n",
    "\n",
    "print(\"Покажемо кращий приклад з масивами де ми хочемо виконати (х * 5 + 6) над кожним елементом масиву:\")\n",
    "\n",
    "l = [1, 2, 3]\n",
    "n = np.array(l)\n",
    "\n",
    "a = [i * 5 + 6 for i in l]\n",
    "print(f\"Результат: {a} типу {type(a)}\")\n",
    "a = n * 5 + 6\n",
    "print(f\"Результат: {a} типу {type(a)}\")\n"
   ]
  },
  {
   "attachments": {},
   "cell_type": "markdown",
   "metadata": {},
   "source": [
    "### Виконаємо приклад з документації Nampy\n",
    "[Розв'яжемо приклад за формулою](https://numpy.org/doc/stable/user/absolute_beginners.html#working-with-mathematical-formulas)\n",
    "![formula](./formula.png)"
   ]
  },
  {
   "cell_type": "code",
   "execution_count": null,
   "metadata": {},
   "outputs": [],
   "source": [
    "from numpy.random import randint, random\n",
    "\n",
    "n = 2\n",
    "Y_prediction = np.array([2, 4]) #randint(1, 100, size=n) # Це є цілі числа\n",
    "Y = np.array([0.2, 0.6]) #random(size=n) # Це є числа з плаваючою крапкою від 0 до 1\n",
    "\n",
    "MSE = np.sum(np.square(Y_prediction - Y)) / n # Це наша формула\n",
    "\n",
    "print(f\"Якщо Y_prediction = {Y_prediction} та Y = {Y} то за формулою будемо мати: {MSE}\")\n",
    "\n",
    "print(\"А ось так воно виглядає чистим пайтоном:\")\n",
    "\n",
    "Y_prediction = [2, 4]\n",
    "Y = [0.2, 0.6]\n",
    "\n",
    "MSE = []\n",
    "for i in range(n):\n",
    "    MSE.append((Y_prediction[i] - Y[i])**2)\n",
    "\n",
    "MSE_final = sum(MSE)/n\n",
    "print(f\"Якщо Y_prediction = {Y_prediction} та Y = {Y} то за формулою будемо мати: {MSE} та результат {MSE_final}\")"
   ]
  },
  {
   "attachments": {},
   "cell_type": "markdown",
   "metadata": {},
   "source": [
    "### Методи створення масивів в Numpy\n",
    "> `range` VS `np.arrange` - згенерувати послідовність чисел з певним кроком в діапазоні від Start-Stop"
   ]
  },
  {
   "cell_type": "code",
   "execution_count": null,
   "metadata": {},
   "outputs": [],
   "source": [
    "l = list(range(15))\n",
    "print(f\"Згенерували {type(l)} на {len(l)} елементів, де 0-й елемент {l[0]} та останній елемент {l[-1]}\")\n",
    "# Звісно можна просто перетворити попередній List в масив Numpy\n",
    "a = np.array(l)\n",
    "print(f\"Згенерували {type(a)} на {len(a)} елементів, де 0-й елемент {a[0]} та останній елемент {a[-1]}\")\n",
    "# Однак краще використовувати методи Numpy\n",
    "n = np.arange(15)\n",
    "print(f\"Згенерували {type(n)} на {len(n)} елементів, де 0-й елемент {n[0]} та останній елемент {n[-1]}\")\n",
    "n2 = np.arange(10, 15, 2)\n",
    "print(f\"Оскільки останній елемент не враховується то будемо мати тільки {len(n2)} які є: {n2}\")\n",
    "n3 = np.arange(10, 14, 2)\n",
    "print(f\"Оскільки останній елемент не враховується то будемо мати тільки {len(n3)} які є: {n3}\")\n",
    "n4 = np.arange(10, 12, step=.2)\n",
    "print(f\"Якщо крок дробовий то буде {len(n4)} де 0-й елемент {n4[0]} та останній елемент {n4[-1]} та можемо його округлити до 2-х знаків {np.round(n4[-1], 2)}\")\n"
   ]
  },
  {
   "attachments": {},
   "cell_type": "markdown",
   "metadata": {},
   "source": [
    "`np.linspace` - генерує масив, якщо нам потрібна задана кількість елементів на проміжку"
   ]
  },
  {
   "cell_type": "code",
   "execution_count": null,
   "metadata": {},
   "outputs": [],
   "source": [
    "n = np.linspace(10, 12, num=20)\n",
    "print(f\"Згенерували {type(n)} на {len(n)} елементів, де 0-й елемент {n[0]} та останній елемент {n[-1]}\")\n",
    "print(f\"Подивимось на всі елементи масиву:\\n {n}\")\n",
    "print(f\"Спробуємо округлити до 2-х знаків після коми:\\n {np.around(n, 2)}\")"
   ]
  },
  {
   "attachments": {},
   "cell_type": "markdown",
   "metadata": {},
   "source": [
    "### Візуальний приклад"
   ]
  },
  {
   "cell_type": "code",
   "execution_count": null,
   "metadata": {},
   "outputs": [],
   "source": [
    "%pip install matplotlib"
   ]
  },
  {
   "cell_type": "code",
   "execution_count": null,
   "metadata": {},
   "outputs": [],
   "source": [
    "import matplotlib.pyplot as plt"
   ]
  },
  {
   "cell_type": "code",
   "execution_count": null,
   "metadata": {},
   "outputs": [],
   "source": [
    "N = 20\n",
    "x = np.linspace(10, 12, num=N)\n",
    "y = np.linspace(20, 30, num=N)\n",
    "plt.plot(x, y, 'o', label=\"linspace\")\n",
    "\n",
    "x1 = np.arange(10, 12, step=.1)\n",
    "y1 = np.arange(20, 30, step=.5)\n",
    "\n",
    "plt.plot(x1, y1, 'o', label=\"arange\")\n",
    "print(f\"Але ми мали однакову кількість елементів {len(x)} = {len(x1)}, Перший елемент рівний {x[0]} = {x1[0]}. Останні елементи не рівні {x[-1]} =/ {x1[-1]}\")\n",
    "\n",
    "plt.legend()\n",
    "plt.show()"
   ]
  },
  {
   "attachments": {},
   "cell_type": "markdown",
   "metadata": {},
   "source": [
    "### Можна зберегти попередній графік та просто вивести його за допомогою Markdown\n",
    "![Збережений графік](./fig_1.png)"
   ]
  },
  {
   "attachments": {},
   "cell_type": "markdown",
   "metadata": {},
   "source": [
    "### Розуміння векторів та матриць\n",
    "> Вектор рядок та вектор стовпець"
   ]
  },
  {
   "cell_type": "code",
   "execution_count": null,
   "metadata": {},
   "outputs": [],
   "source": [
    "vr = np.arange(16)\n",
    "print(f\"Це буде вектор рядок:\\n {vr}\")\n",
    "vs = np.arange(16).reshape(16, 1)\n",
    "print(f\"Це вектор стовпець:\\n {vs}\")"
   ]
  },
  {
   "cell_type": "code",
   "execution_count": null,
   "metadata": {},
   "outputs": [],
   "source": [
    "vr1 = np.array([1, 2, 3])\n",
    "vr2 = np.array([4, 5, 6])\n",
    "vs1 = np.array([[1], [2], [3]])\n",
    "vs2 = np.array([[4], [5], [6]])\n",
    "print(f\"\"\"\n",
    "Вектор ряди які створили вручну будуть виглядати:\n",
    "VR1=\n",
    "{vr1}\n",
    "---\n",
    "VR2=\n",
    "{vr2}\n",
    "Вектор стовпці які створили вручну будуть виглядати:\n",
    "VS1=\n",
    "{vs1}\n",
    "---\n",
    "VS2=\n",
    "{vs2}\n",
    "\"\"\")\n",
    "\n",
    "print(\"Спробуємо додавання однакових векторів:\")\n",
    "print(f\"\"\"\n",
    "VR1+VR2=\n",
    "{vr1+vr2}\n",
    "---\n",
    "VS1+VS2=\n",
    "{vs1+vs2}\n",
    "---\n",
    "При додаванні різних типів векторів будемо мати матрицю:\n",
    "VR1+VS1=\n",
    "{vr1+vs1}\n",
    "\"\"\")"
   ]
  },
  {
   "attachments": {},
   "cell_type": "markdown",
   "metadata": {},
   "source": [
    "> Визначення форми (shape) вектора та її зміна (reshape)"
   ]
  },
  {
   "cell_type": "code",
   "execution_count": null,
   "metadata": {},
   "outputs": [],
   "source": [
    "print(f\"Вектор рядок має форму {vr.shape}, a вектор стовпець має форму {vs.shape}\")\n",
    "print(f\"Можна зробити 3-x вимірний масив/матрицю:\\n{vs.reshape(4, 2, 2)}\")\n",
    "print(f\"Можна зробити 3-x вимірний масив/матрицю:\\n{vs.reshape(4, 4, 1)}\")\n",
    "print(f\"Можна зробити 4-x вимірний масив/матрицю:\\n{vs.reshape(2, 2, 2, 2)}\")\n",
    "\n",
    "print(\"Добутоек всіх значень форми по кожній з осей має бути рівним = загальній к-сть елементів масиву\")"
   ]
  },
  {
   "cell_type": "code",
   "execution_count": 48,
   "metadata": {},
   "outputs": [
    {
     "name": "stdout",
     "output_type": "stream",
     "text": [
      "Ми прочитали зображення яке буде мати тип: float32\n",
      "Зображення представлене матрицею буде мати форму: (613, 2362, 4)\n"
     ]
    },
    {
     "data": {
      "image/png": "[encoded data removed]",
      "text/plain": [
       "<Figure size 640x480 with 1 Axes>"
      ]
     },
     "metadata": {},
     "output_type": "display_data"
    }
   ],
   "source": [
    "from matplotlib import image\n",
    "from matplotlib import pyplot\n",
    "\n",
    "image = image.imread('formula.png')\n",
    "\n",
    "print(f\"Ми прочитали зображення яке буде мати тип: {image.dtype}\")\n",
    "print(f\"Зображення представлене матрицею буде мати форму: {image.shape}\")\n",
    "\n",
    "np_image = np.array(image)\n",
    "#print(np_image)\n",
    "\n",
    "\n",
    "pyplot.imshow(np_image[110:400, 170:2100]*0.7)\n",
    "pyplot.show()"
   ]
  }
 ],
 "metadata": {
  "kernelspec": {
   "display_name": "Python 3",
   "language": "python",
   "name": "python3"
  },
  "language_info": {
   "codemirror_mode": {
    "name": "ipython",
    "version": 3
   },
   "file_extension": ".py",
   "mimetype": "text/x-python",
   "name": "python",
   "nbconvert_exporter": "python",
   "pygments_lexer": "ipython3",
   "version": "3.10.2"
  },
  "orig_nbformat": 4,
  "vscode": {
   "interpreter": {
    "hash": "0d72b21489300652f2337cd7f80c57cc00ce6bbc92cf98d285c178d0a8ced433"
   }
  }
 },
 "nbformat": 4,
 "nbformat_minor": 2
}
